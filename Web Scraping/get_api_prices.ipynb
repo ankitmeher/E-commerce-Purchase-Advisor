{
 "cells": [
  {
   "cell_type": "code",
   "execution_count": 53,
   "id": "e2b47dae",
   "metadata": {},
   "outputs": [
    {
     "name": "stdout",
     "output_type": "stream",
     "text": [
      "YFbOzRKKTm5eCPjpAJW4LYFZvSVYg+RytEC/oN9vI0nfg+2guNeok8zwQalKj7wm\n"
     ]
    }
   ],
   "source": [
    "api_key = ''\n",
    "with open(\"./API_KEY/auth_key.txt\", \"r\") as f:\n",
    "    api_key = f.read().strip()\n",
    "\n",
    "print(api_key)\n",
    "auth_key = api_key\n"
   ]
  },
  {
   "cell_type": "code",
   "execution_count": 54,
   "id": "5e0feb4d",
   "metadata": {},
   "outputs": [
    {
     "name": "stdout",
     "output_type": "stream",
     "text": [
      "Status Code: 200\n",
      "Response JSON: {'slug': 'cosmic-byte-stellaris-controller-3-modes-wifi-bluetooth-wired-for-pc-ios-android-hall-effect-magnetic-trigger-and-joystick-macros-1000mah-ba', 'country_code': 'en-in'}\n",
      "Extracted Slug ID: cosmic-byte-stellaris-controller-3-modes-wifi-bluetooth-wired-for-pc-ios-android-hall-effect-magnetic-trigger-and-joystick-macros-1000mah-ba\n"
     ]
    }
   ],
   "source": [
    "import requests\n",
    "\n",
    "url = \"https://ph.pricetoolkit.com/api/product/history/getSlugFromUrl\"\n",
    "target_url = input(\"Enter the product URL: \")\n",
    "payload = {\n",
    "    \"purl\": target_url\n",
    "}\n",
    "\n",
    "headers = {\n",
    "    \"Auth\": auth_key,\n",
    "    \"Content-Type\": \"application/x-www-form-urlencoded\"\n",
    "}\n",
    "\n",
    "response = requests.post(url, data=payload, headers=headers)\n",
    "\n",
    "print(\"Status Code:\", response.status_code)\n",
    "print(\"Response JSON:\", response.json())\n",
    "slug_id = response.json().get(\"slug\")\n",
    "print(\"Extracted Slug ID:\", slug_id)\n"
   ]
  },
  {
   "cell_type": "code",
   "execution_count": 55,
   "id": "830f4807",
   "metadata": {},
   "outputs": [
    {
     "name": "stdout",
     "output_type": "stream",
     "text": [
      "Status Code: 200\n",
      "Response JSON: {'pid': 'B0CXTJNJX2', 'history': {'1713209965': 2999.0, '1713250294': 2999.0, '1713312068': 2999.0, '1714057084': 3039.0, '1714498819': 3199.0, '1714587446': 2859.0, '1714592317': 3039.0, '1714642503': 2598.0, '1715247340': 2999.0, '1720177711': 3499.0, '1720342478': 3799.0, '1720890433': 3999.0, '1722500534': 4299.0, '1727291078': 2599.0, '1727296508': 2999.0, '1727386407': 2599.0, '1729176270': 4299.0, '1729181777': 2599.0, '1729241894': 4299.0, '1729282446': 2599.0, '1729328368': 4299.0, '1729860934': 2599.0, '1729925812': 4299.0, '1730003307': 2599.0, '1730035434': 4299.0, '1730082865': 2599.0, '1730105330': 4299.0, '1730631493': 2999.0, '1734511626': 2799.0, '1735755018': 2999.0, '1736518685': 2599.0, '1736532612': 2999.0, '1736734355': 2859.0, '1736783558': 2729.0, '1736824539': 2599.0, '1737359642': 2999.0, '1737560766': 3099.0, '1737829765': 2999.0, '1738346827': 3099.0, '1739192340': 2999.0, '1745289534': 3038.0, '1745494594': 2999.0, '1746037051': 2989.0, '1746082283': 2599.0, '1746901730': 2999.0, '1750227387': 2949.0, '1750267837': 2999.0, '1750581022': 3038.0, '1750734443': 2999.0, '1752124423': 2589.0, '1752487387': 2999.0, '1753899612': 2728.0, '1753903117': 2599.0, '1754685966': 2999.0, '1757430204': 3038.0, '1757520829': 2999.0, '1757773641': 2299.0, '1758053268': 2999.0, '1758301067': 2299.0}, 'price_fetched_at': '2025-09-20T17:10:57.013760Z', 'lowest_price': 2299.0, 'highest_price': 4299.0, 'average_price': 3071.0, 'drop_chances': 0.0, 'rating': 0.0, 'rating_count': 0, 'stock': True, 'price': 2299.0, 'url': 'https://www.amazon.in/dp/B0CXTJNJX2?psc=1'}\n",
      "Price History: {'1713209965': 2999.0, '1713250294': 2999.0, '1713312068': 2999.0, '1714057084': 3039.0, '1714498819': 3199.0, '1714587446': 2859.0, '1714592317': 3039.0, '1714642503': 2598.0, '1715247340': 2999.0, '1720177711': 3499.0, '1720342478': 3799.0, '1720890433': 3999.0, '1722500534': 4299.0, '1727291078': 2599.0, '1727296508': 2999.0, '1727386407': 2599.0, '1729176270': 4299.0, '1729181777': 2599.0, '1729241894': 4299.0, '1729282446': 2599.0, '1729328368': 4299.0, '1729860934': 2599.0, '1729925812': 4299.0, '1730003307': 2599.0, '1730035434': 4299.0, '1730082865': 2599.0, '1730105330': 4299.0, '1730631493': 2999.0, '1734511626': 2799.0, '1735755018': 2999.0, '1736518685': 2599.0, '1736532612': 2999.0, '1736734355': 2859.0, '1736783558': 2729.0, '1736824539': 2599.0, '1737359642': 2999.0, '1737560766': 3099.0, '1737829765': 2999.0, '1738346827': 3099.0, '1739192340': 2999.0, '1745289534': 3038.0, '1745494594': 2999.0, '1746037051': 2989.0, '1746082283': 2599.0, '1746901730': 2999.0, '1750227387': 2949.0, '1750267837': 2999.0, '1750581022': 3038.0, '1750734443': 2999.0, '1752124423': 2589.0, '1752487387': 2999.0, '1753899612': 2728.0, '1753903117': 2599.0, '1754685966': 2999.0, '1757430204': 3038.0, '1757520829': 2999.0, '1757773641': 2299.0, '1758053268': 2999.0, '1758301067': 2299.0}\n"
     ]
    }
   ],
   "source": [
    "url = \"https://ph.pricetoolkit.com/api/product/history/updateFromSlug\"\n",
    "payload = {\n",
    "    \"slug\": slug_id\n",
    "}\n",
    "\n",
    "headers = {\n",
    "    \"Auth\": auth_key,\n",
    "    \"Content-Type\": \"application/x-www-form-urlencoded\"\n",
    "}\n",
    "\n",
    "response = requests.post(url, data=payload, headers=headers)\n",
    "response_json = response.json()\n",
    "print(\"Status Code:\", response.status_code)\n",
    "print(\"Response JSON:\", response.json())\n",
    "history = response.json().get(\"history\")\n",
    "print(\"Price History:\", history)\n"
   ]
  },
  {
   "cell_type": "code",
   "execution_count": 56,
   "id": "4a6723bd",
   "metadata": {},
   "outputs": [
    {
     "data": {
      "text/html": [
       "<div>\n",
       "<style scoped>\n",
       "    .dataframe tbody tr th:only-of-type {\n",
       "        vertical-align: middle;\n",
       "    }\n",
       "\n",
       "    .dataframe tbody tr th {\n",
       "        vertical-align: top;\n",
       "    }\n",
       "\n",
       "    .dataframe thead th {\n",
       "        text-align: right;\n",
       "    }\n",
       "</style>\n",
       "<table border=\"1\" class=\"dataframe\">\n",
       "  <thead>\n",
       "    <tr style=\"text-align: right;\">\n",
       "      <th></th>\n",
       "      <th>timestamp</th>\n",
       "      <th>price</th>\n",
       "      <th>date</th>\n",
       "    </tr>\n",
       "  </thead>\n",
       "  <tbody>\n",
       "    <tr>\n",
       "      <th>0</th>\n",
       "      <td>1713209965</td>\n",
       "      <td>2999.0</td>\n",
       "      <td>2024-04-15 19:39:25</td>\n",
       "    </tr>\n",
       "    <tr>\n",
       "      <th>1</th>\n",
       "      <td>1713250294</td>\n",
       "      <td>2999.0</td>\n",
       "      <td>2024-04-16 06:51:34</td>\n",
       "    </tr>\n",
       "    <tr>\n",
       "      <th>2</th>\n",
       "      <td>1713312068</td>\n",
       "      <td>2999.0</td>\n",
       "      <td>2024-04-17 00:01:08</td>\n",
       "    </tr>\n",
       "    <tr>\n",
       "      <th>3</th>\n",
       "      <td>1714057084</td>\n",
       "      <td>3039.0</td>\n",
       "      <td>2024-04-25 14:58:04</td>\n",
       "    </tr>\n",
       "    <tr>\n",
       "      <th>4</th>\n",
       "      <td>1714498819</td>\n",
       "      <td>3199.0</td>\n",
       "      <td>2024-04-30 17:40:19</td>\n",
       "    </tr>\n",
       "  </tbody>\n",
       "</table>\n",
       "</div>"
      ],
      "text/plain": [
       "    timestamp   price                date\n",
       "0  1713209965  2999.0 2024-04-15 19:39:25\n",
       "1  1713250294  2999.0 2024-04-16 06:51:34\n",
       "2  1713312068  2999.0 2024-04-17 00:01:08\n",
       "3  1714057084  3039.0 2024-04-25 14:58:04\n",
       "4  1714498819  3199.0 2024-04-30 17:40:19"
      ]
     },
     "execution_count": 56,
     "metadata": {},
     "output_type": "execute_result"
    }
   ],
   "source": [
    "import pandas as pd\n",
    "\n",
    "# Convert dictionary items into list of tuples and then into dataframe\n",
    "df = pd.DataFrame(list(history.items()), columns=['timestamp', 'price'])\n",
    "\n",
    "# Convert timestamp to date\n",
    "df['date'] = pd.to_datetime(df['timestamp'].astype(int), unit='s')\n",
    "df.head()\n"
   ]
  },
  {
   "cell_type": "code",
   "execution_count": 57,
   "id": "abfa5aa3",
   "metadata": {},
   "outputs": [],
   "source": [
    "df = df[['date', 'price']]\n",
    "# Save to CSV\n",
    "file_name = f\"./price_history_data/{slug_id[:50]}_price_history.csv\"\n",
    "df.to_csv(file_name, index=False)"
   ]
  },
  {
   "cell_type": "code",
   "execution_count": null,
   "id": "ab87a462",
   "metadata": {},
   "outputs": [],
   "source": []
  }
 ],
 "metadata": {
  "kernelspec": {
   "display_name": "Python 3",
   "language": "python",
   "name": "python3"
  },
  "language_info": {
   "codemirror_mode": {
    "name": "ipython",
    "version": 3
   },
   "file_extension": ".py",
   "mimetype": "text/x-python",
   "name": "python",
   "nbconvert_exporter": "python",
   "pygments_lexer": "ipython3",
   "version": "3.11.0"
  }
 },
 "nbformat": 4,
 "nbformat_minor": 5
}
